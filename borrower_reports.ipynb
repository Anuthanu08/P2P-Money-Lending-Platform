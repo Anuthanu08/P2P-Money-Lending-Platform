{
 "cells": [
  {
   "cell_type": "code",
   "execution_count": 19,
   "id": "baa28c24-fe7c-4a32-84ae-f62b578ba46e",
   "metadata": {},
   "outputs": [],
   "source": [
    "import import_ipynb\n",
    "from db_setup import get_collections\n",
    "import pandas as pd\n",
    "import matplotlib.pyplot as plt\n",
    "import seaborn as sns\n",
    "import numpy as np\n",
    "collections = get_collections()\n",
    "borrower_profile_collection = collections[\"borrower_profiles\"]\n",
    "\n",
    "def generate_borrower_pie_chart(borrower):\n",
    "    # Query the borrower profile collection for the specified borrower_id\n",
    "    borrower_id = borrower[\"user_id\"]\n",
    "    borrower_data = borrower_profile_collection.find_one({\"borrower_id\": borrower_id})\n",
    "    \n",
    "    # Check if borrower_data is None\n",
    "    if not borrower_data:\n",
    "        print(f\"No data found for borrower_id: {borrower_id}\")\n",
    "        return\n",
    "\n",
    "    # Extract portfolio and total_loan_amount\n",
    "    portfolio = borrower_data.get(\"portfolio\", [])\n",
    "    total_loan_amount = borrower_data.get(\"total_loan_amount\", 0)\n",
    "\n",
    "    # Check if portfolio is empty\n",
    "    if not portfolio:\n",
    "        print(f\"No portfolio data available for borrower_id: {borrower_id}\")\n",
    "        return\n",
    "\n",
    "    # Prepare data for the pie chart\n",
    "    loan_ids = [item[\"loan_id\"] for item in portfolio]\n",
    "    amounts = [item[\"amount\"] for item in portfolio]\n",
    "\n",
    "    # Plot the pie chart\n",
    "    plt.figure(figsize=(8, 8))\n",
    "    wedges, texts, autotexts = plt.pie(amounts, labels=None, autopct='%1.1f%%',startangle=140, textprops=dict(color=\"w\"))\n",
    "    \n",
    "    # Add a legend to avoid overlapping labels\n",
    "    plt.legend(wedges, loan_ids,title=\"Loan IDs\",loc=\"center left\",bbox_to_anchor=(1, 0, 0.5, 1)\n",
    "    )\n",
    "    \n",
    "    plt.title(f\"Borrower Portfolio for borrower_id: {borrower_id}\\nTotal Loan Amount: ${total_loan_amount}\")\n",
    "    plt.axis('equal')  # Equal aspect ratio ensures the pie is drawn as a circle\n",
    "    plt.show()\n"
   ]
  },
  {
   "cell_type": "code",
   "execution_count": null,
   "id": "23233d1b-5eed-4a15-9b95-cdbd323e7477",
   "metadata": {},
   "outputs": [],
   "source": []
  },
  {
   "cell_type": "code",
   "execution_count": null,
   "id": "71417606-7255-4a03-8a7d-b85e83e88b0e",
   "metadata": {},
   "outputs": [],
   "source": []
  }
 ],
 "metadata": {
  "kernelspec": {
   "display_name": "Python 3 (ipykernel)",
   "language": "python",
   "name": "python3"
  },
  "language_info": {
   "codemirror_mode": {
    "name": "ipython",
    "version": 3
   },
   "file_extension": ".py",
   "mimetype": "text/x-python",
   "name": "python",
   "nbconvert_exporter": "python",
   "pygments_lexer": "ipython3",
   "version": "3.12.4"
  }
 },
 "nbformat": 4,
 "nbformat_minor": 5
}
