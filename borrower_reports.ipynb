{
 "cells": [
  {
   "cell_type": "code",
   "execution_count": 3,
   "id": "baa28c24-fe7c-4a32-84ae-f62b578ba46e",
   "metadata": {},
   "outputs": [],
   "source": [
    "import import_ipynb\n",
    "from db_setup import get_collections\n",
    "import pandas as pd\n",
    "import matplotlib.pyplot as plt\n",
    "import seaborn as sns\n",
    "import numpy as np\n",
    "collections = get_collections()\n",
    "borrower_profiles_collection = collections[\"borrower_profiles\"]\n",
    "\n",
    "# Function which will display the borrower's portfolio details in a pie chart\n",
    "def generate_borrower_pie_chart(borrower):\n",
    "    borrower_id = borrower[\"user_id\"]\n",
    "    borrower_data = borrower_profiles_collection.find_one({\"borrower_id\": borrower_id})\n",
    "\n",
    "    if not borrower_data:\n",
    "        # If no such borrower is present in the system\n",
    "        print(f\"No data found for borrower_id: {borrower_id}\")\n",
    "        return\n",
    "    portfolio = borrower_data.get(\"portfolio\", [])\n",
    "    total_loan_amount = borrower_data.get(\"total_loan_amount\", 0)\n",
    "\n",
    "    if not portfolio:\n",
    "        # When there is no active loans in the name of borrower\n",
    "        print(f\"No portfolio data available for borrower_id: {borrower_id}\")\n",
    "        return\n",
    "    loan_ids = [item[\"loan_id\"] for item in portfolio]\n",
    "    amounts = [item[\"amount\"] for item in portfolio]\n",
    "\n",
    "    # Plot the pie chart for all the loan ids and its associated loan amount\n",
    "    plt.figure(figsize=(8, 8))\n",
    "    wedges, texts, autotexts = plt.pie(amounts, labels=None, autopct='%1.1f%%',startangle=140, textprops=dict(color=\"w\"))\n",
    "    plt.legend(wedges, loan_ids,title=\"Loan IDs\",loc=\"center left\",bbox_to_anchor=(1, 0, 0.5, 1)\n",
    "    )\n",
    "    \n",
    "    plt.title(f\"Borrower Portfolio for borrower_id: {borrower_id}\\nTotal Loan Amount: ${total_loan_amount}\")\n",
    "    plt.axis('equal')\n",
    "    plt.show()\n"
   ]
  },
  {
   "cell_type": "code",
   "execution_count": null,
   "id": "8d7fd0c0-81bd-416b-873f-0b394a1609ce",
   "metadata": {},
   "outputs": [],
   "source": []
  }
 ],
 "metadata": {
  "kernelspec": {
   "display_name": "Python 3 (ipykernel)",
   "language": "python",
   "name": "python3"
  },
  "language_info": {
   "codemirror_mode": {
    "name": "ipython",
    "version": 3
   },
   "file_extension": ".py",
   "mimetype": "text/x-python",
   "name": "python",
   "nbconvert_exporter": "python",
   "pygments_lexer": "ipython3",
   "version": "3.12.4"
  }
 },
 "nbformat": 4,
 "nbformat_minor": 5
}
