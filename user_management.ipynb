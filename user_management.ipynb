{
 "cells": [
  {
   "cell_type": "code",
   "execution_count": 1,
   "id": "76ae9d61-a730-493b-84a8-fc8a856d7e92",
   "metadata": {},
   "outputs": [],
   "source": [
    "import import_ipynb\n",
    "from db_setup import get_collections\n",
    "collections = get_collections()\n",
    "users_collection = collections[\"users\"]\n",
    "lender_profiles_collection = collections[\"lender_profiles\"]\n",
    "borrower_profiles_collection = collections[\"borrower_profiles\"]\n",
    "\n",
    "# Method to register new user to the platform\n",
    "def register_user(users_collection):\n",
    "    user_id_counter = users_collection.count_documents({}) + 1\n",
    "    user = {\n",
    "        \"user_id\": f\"U{user_id_counter:04d}\",\n",
    "        \"name\": input(\"Enter Name: \"),\n",
    "        \"age\": int(input(\"Enter Age: \")),\n",
    "        \"email\": input(\"Enter Email: \"),\n",
    "        \"type\": input(\"Enter Type (borrower/lender): \").lower(),\n",
    "        \"education\": input(\"Enter the highest education completed: \").lower(),\n",
    "        \"emp_title\": input(\"Enter the employment title: \").lower(),\n",
    "        \"emp_type\": input(\"Enter the employment type: \").lower(),\n",
    "        \"emp_length\": int(input(\"Enter employment period: \")),\n",
    "        \"credit_score\": int(input(\"Enter credit score: \")),\n",
    "        \"annual_income\": float(input(\"Enter Annual Income: \"))\n",
    "    }\n",
    "    # Insert the details of new user into the users collection\n",
    "    users_collection.insert_one(user)\n",
    "    if(user['type'] == \"lender\") :\n",
    "        # If the registered user is a lender, Lender profiles collection is updated\n",
    "        lender_profiles_collection.insert_one({\n",
    "                \"lender_id\": user['user_id'],\n",
    "                \"income\": user['annual_income'],\n",
    "                \"total_invested\": 0\n",
    "            })\n",
    "    else :\n",
    "        # If the registered user is a borrower, Borrower profiles collection is updated\n",
    "        borrower_profiles_collection.insert_one({\n",
    "            \"borrower_id\": user['user_id'],\n",
    "            \"income\":  user['annual_income'],\n",
    "            \"total_loan_amount\": 0,\n",
    "            \"debt_to_income_ratio\": 0\n",
    "        })\n",
    "    print(\"User registered successfully!\")\n",
    "    print(f\"Your login ID: {user['user_id']}\")\n",
    "\n",
    "\n",
    "# Method to login to the platform either as Lender or Borrower\n",
    "def login_user(users_collection):\n",
    "    user_id = input(\"Enter your User ID: \")\n",
    "    user = users_collection.find_one({\"user_id\": user_id})\n",
    "    if user:\n",
    "        print(f\"Welcome, {user['name']}!\")\n",
    "        return user\n",
    "    else:\n",
    "        print(\"User not found.\")\n",
    "        return None\n"
   ]
  },
  {
   "cell_type": "code",
   "execution_count": null,
   "id": "48d4c3dc-ec60-4514-8678-b19e29f92805",
   "metadata": {},
   "outputs": [],
   "source": []
  }
 ],
 "metadata": {
  "kernelspec": {
   "display_name": "Python 3 (ipykernel)",
   "language": "python",
   "name": "python3"
  },
  "language_info": {
   "codemirror_mode": {
    "name": "ipython",
    "version": 3
   },
   "file_extension": ".py",
   "mimetype": "text/x-python",
   "name": "python",
   "nbconvert_exporter": "python",
   "pygments_lexer": "ipython3",
   "version": "3.12.4"
  }
 },
 "nbformat": 4,
 "nbformat_minor": 5
}
