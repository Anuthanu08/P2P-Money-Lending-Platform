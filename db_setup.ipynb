{
 "cells": [
  {
   "cell_type": "code",
   "execution_count": 2,
   "id": "2cd36c88-9a16-4093-8a65-4254015fccd2",
   "metadata": {},
   "outputs": [],
   "source": [
    "# Establish the connection with the MongoDb and fetch the database and collections\n",
    "from pymongo import MongoClient\n",
    "\n",
    "# Fetch the database\n",
    "def get_db():\n",
    "    client = MongoClient(\"mongodb://localhost:27017\")\n",
    "    db = client[\"p2p_lending\"]\n",
    "    return db\n",
    "\n",
    "# Fetch the collections.\n",
    "def get_collections():\n",
    "    db = get_db()\n",
    "    return {\n",
    "        \"users\": db[\"users\"],\n",
    "        \"loans\": db[\"loans\"],\n",
    "        \"loan_requests\": db[\"loan_requests\"],\n",
    "        \"lender_profiles\": db[\"lender_profiles\"],\n",
    "        \"borrower_profiles\": db[\"borrower_profiles\"],\n",
    "        \"payments\": db[\"payments\"],\n",
    "        \"original\": db[\"original\"]\n",
    "    }\n"
   ]
  },
  {
   "cell_type": "code",
   "execution_count": null,
   "id": "22796e8b-ead3-4047-a64a-7653cebabb82",
   "metadata": {},
   "outputs": [],
   "source": []
  }
 ],
 "metadata": {
  "kernelspec": {
   "display_name": "Python 3 (ipykernel)",
   "language": "python",
   "name": "python3"
  },
  "language_info": {
   "codemirror_mode": {
    "name": "ipython",
    "version": 3
   },
   "file_extension": ".py",
   "mimetype": "text/x-python",
   "name": "python",
   "nbconvert_exporter": "python",
   "pygments_lexer": "ipython3",
   "version": "3.12.4"
  }
 },
 "nbformat": 4,
 "nbformat_minor": 5
}
