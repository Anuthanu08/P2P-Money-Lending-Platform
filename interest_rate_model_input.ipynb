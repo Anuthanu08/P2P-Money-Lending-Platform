{
 "cells": [
  {
   "cell_type": "code",
   "execution_count": 4,
   "id": "bdab2cc4-6635-4ce5-a6e5-44c9eddc6e84",
   "metadata": {},
   "outputs": [],
   "source": [
    "# A method to plugin the interest rate prediction model to the application\n",
    "import pandas as pd\n",
    "import pickle\n",
    "from sklearn.preprocessing import LabelEncoder\n",
    "\n",
    "def predict_interest_rate(input_data):\n",
    "    model_path='interest_model.pkl' \n",
    "    encoders_file='interest_label_encoders.pkl'\n",
    "\n",
    "    with open(model_path, 'rb') as file:\n",
    "        model = pickle.load(file)\n",
    "\n",
    "    with open(encoders_file, 'rb') as f:\n",
    "        label_encoders = pickle.load(f)\n",
    "\n",
    "    selected_features = [\n",
    "    'grade', 'sub_grade'\n",
    "    ]\n",
    "    input_df = pd.DataFrame([input_data])\n",
    "\n",
    "    for column, encoder in label_encoders.items():\n",
    "        input_df[column] = encoder.transform(input_df[column])\n",
    "\n",
    "    predicted_interest_rate = model.predict(input_df[selected_features])\n",
    "\n",
    "    return predicted_interest_rate"
   ]
  },
  {
   "cell_type": "code",
   "execution_count": null,
   "id": "26883ad9-308c-4476-bca5-0784cd1dd45b",
   "metadata": {},
   "outputs": [],
   "source": []
  }
 ],
 "metadata": {
  "kernelspec": {
   "display_name": "Python 3 (ipykernel)",
   "language": "python",
   "name": "python3"
  },
  "language_info": {
   "codemirror_mode": {
    "name": "ipython",
    "version": 3
   },
   "file_extension": ".py",
   "mimetype": "text/x-python",
   "name": "python",
   "nbconvert_exporter": "python",
   "pygments_lexer": "ipython3",
   "version": "3.12.4"
  }
 },
 "nbformat": 4,
 "nbformat_minor": 5
}
