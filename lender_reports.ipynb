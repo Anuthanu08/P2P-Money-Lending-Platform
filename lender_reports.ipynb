{
 "cells": [
  {
   "cell_type": "code",
   "execution_count": 1,
   "id": "d2e41baa-369f-461e-ab6d-6119e4f35d94",
   "metadata": {},
   "outputs": [],
   "source": [
    "import import_ipynb\n",
    "from db_setup import get_collections\n",
    "import pandas as pd\n",
    "import matplotlib.pyplot as plt\n",
    "import seaborn as sns\n",
    "import numpy as np\n",
    "collections = get_collections()\n",
    "lender_profile_collection = collections[\"lender_profiles\"]\n",
    "\n",
    "# Function which will display the lender's portfolio details in a pie chart\n",
    "def generate_lender_pie_chart(lender):\n",
    "    lender_id = lender[\"user_id\"]\n",
    "    lender_data = lender_profile_collection.find_one({\"lender_id\": lender_id})\n",
    "    if not lender_data:\n",
    "        # If no such lender is present in the system\n",
    "        print(f\"No data found for lender_id: {lender_id}\")\n",
    "        return\n",
    "\n",
    "    portfolio = lender_data.get(\"portfolio\", [])\n",
    "    total_invested = lender_data.get(\"total_invested\", 0)\n",
    "\n",
    "    if not portfolio:\n",
    "        # When there is no active loans in the name of lender\n",
    "        print(f\"No portfolio data available for lender_id: {lender_id}\")\n",
    "        return\n",
    "\n",
    "    loan_ids = [item[\"loan_id\"] for item in portfolio]\n",
    "    amounts = [item[\"amount\"] for item in portfolio]\n",
    "\n",
    "     # Plot the pie chart for all the loan ids and its associated invested amount\n",
    "    plt.figure(figsize=(8, 8))\n",
    "    plt.pie(amounts, labels=loan_ids, autopct='%1.1f%%', startangle=140)\n",
    "    plt.title(f\"Lender Portfolio for lender_id: {lender_id}\\nTotal Invested: ${total_invested}\")\n",
    "    plt.axis('equal')\n",
    "    plt.show()"
   ]
  },
  {
   "cell_type": "code",
   "execution_count": null,
   "id": "6e3fa3e0-8ef9-461e-8d12-d9d015ad413e",
   "metadata": {},
   "outputs": [],
   "source": []
  }
 ],
 "metadata": {
  "kernelspec": {
   "display_name": "Python 3 (ipykernel)",
   "language": "python",
   "name": "python3"
  },
  "language_info": {
   "codemirror_mode": {
    "name": "ipython",
    "version": 3
   },
   "file_extension": ".py",
   "mimetype": "text/x-python",
   "name": "python",
   "nbconvert_exporter": "python",
   "pygments_lexer": "ipython3",
   "version": "3.12.4"
  }
 },
 "nbformat": 4,
 "nbformat_minor": 5
}
