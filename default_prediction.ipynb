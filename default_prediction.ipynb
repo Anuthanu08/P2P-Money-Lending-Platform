{
 "cells": [
  {
   "cell_type": "code",
   "execution_count": 2,
   "id": "269b2fed-81c6-47e5-947f-7cbced4ef001",
   "metadata": {},
   "outputs": [],
   "source": [
    "# A method to plugin the default on model to the application\n",
    "import pandas as pd\n",
    "import pickle\n",
    "from sklearn.preprocessing import LabelEncoder\n",
    "\n",
    "def predict_default(input_data):\n",
    "    \n",
    "    with open('default_model.pkl', 'rb') as file:\n",
    "        model = pickle.load(file)\n",
    "\n",
    "    with open('default_encoder.pkl', 'rb') as encoder_file:\n",
    "        loaded_label_encoders = pickle.load(encoder_file)\n",
    "    \n",
    "    with open('default_scaler.pkl', 'rb') as scaler_file:\n",
    "        loaded_scaler = pickle.load(scaler_file)\n",
    "\n",
    "\n",
    "    input_df = pd.DataFrame([input_data])\n",
    "\n",
    "    for column, encoder in loaded_label_encoders.items():\n",
    "        input_df[column] = encoder.transform(input_df[column])\n",
    "\n",
    "    processed_input_scaled = loaded_scaler.transform(input_df)\n",
    "    \n",
    "    default_rate = model.predict(processed_input_scaled)\n",
    "    \n",
    "    if default_rate == 0:\n",
    "        print(\"You are eligible to apply for the loan!\")\n",
    "        return True\n",
    "    else:\n",
    "        print(\"You are not eligible to apply for the loan!.\")\n",
    "        return False\n",
    "\n"
   ]
  },
  {
   "cell_type": "code",
   "execution_count": null,
   "id": "166022e0-5ff4-49e1-98cf-f65a489b0306",
   "metadata": {},
   "outputs": [],
   "source": []
  }
 ],
 "metadata": {
  "kernelspec": {
   "display_name": "Python 3 (ipykernel)",
   "language": "python",
   "name": "python3"
  },
  "language_info": {
   "codemirror_mode": {
    "name": "ipython",
    "version": 3
   },
   "file_extension": ".py",
   "mimetype": "text/x-python",
   "name": "python",
   "nbconvert_exporter": "python",
   "pygments_lexer": "ipython3",
   "version": "3.12.4"
  }
 },
 "nbformat": 4,
 "nbformat_minor": 5
}
